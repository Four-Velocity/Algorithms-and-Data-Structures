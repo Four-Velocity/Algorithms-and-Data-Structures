{
 "cells": [
  {
   "cell_type": "markdown",
   "metadata": {},
   "source": [
    "# Лабораторна робота № 1\n",
    "## Дослідження Лінійних Структур Даних\n",
    "\n",
    "> Виконав: Мазур О.В.  \n",
    "> № Залікової: 190997  \n",
    "> Варіант № 15  \n",
    "> Третій рівень  \n",
    "\n",
    "### Зміст\n",
    "* [Завдання](#Завдання)\n",
    "* [Структура](#Структура)\n",
    "* [Реалізація](#Реалізація)\n",
    "    * [Список](#Список)\n",
    "    * [Черга](#Черга)\n",
    "    * [Міграція данних зі списку у чергу](#Міграція-данних-зі-списку-у-чергу)\n",
    "* [Utils](#Utils)\n",
    "    * [MaxLenMixin](#MaxLenMixin)\n",
    "    * [CustomListIsFull](#CustomListIsFull)\n",
    "    * [CustomListIsEmpty](#CustomListIsEmpty)\n",
    "    * [CustomQueueIsFull](#CustomQueueIsFull)\n",
    "    * [CustomQueueIsEmpty](#CustomQueueIsEmpty)\n",
    "\n",
    "\n",
    "### Завдання\n",
    "* Перший рівень <sup>[\\[1\\]](#Список)</sup>\n",
    "    * Створити екземпляр структури даних; (Список, int<sub>10</sub>)\n",
    "    * Уставити елементи в структуру даних і вивести її вміст;\n",
    "    * Видалити декілька елементів зі структури даних і вивести її вміст.\n",
    "* Другий рівень <sup>[\\[2\\]](#Черга)</sup>\n",
    "    * Створити екземпляр структури даних; (Черга, hex<sub>16</sub>)\n",
    "    * Уставити елементи в структуру даних і вивести її вміст;\n",
    "    * Видалити декілька елементів зі структури даних і вивести її вміст.\n",
    "* Третій рівень <sup>[\\[3\\]](#Міграція-данних-зі-списку-у-чергу)</sup>\n",
    "    * Створити екземпляри першої та другої структур даних;\n",
    "    * Уставити елементи до першої структури даних і вивести її вміст;\n",
    "    * Видалити зі списку парні елементи, а решту скопіювати в чергу у шіснадцятковій системі числення;\n",
    "    * Вивести вміст обох структур даних.\n",
    "\n",
    "### Структура\n",
    "В ході данної роботи була реалізована наступна структура:  \n",
    "![Project Structure](structure.png)\n",
    "\n",
    "1. Директорія яка містить структури даних\n",
    "2. Службовий файл\n",
    "3. Реалізація списку та його функція-конструктор\n",
    "4. Реалізація черги та її функція-конструктор\n",
    "5. Додаткові функції та класи\n",
    "6. Службовий файл\n",
    "7. Помилки які викликаються списком\n",
    "8. Клас який реалізує властивість maxlen. Дозволяє обмежувати довжину колекцій\n",
    "9. Помилки які викликаються чергою\n",
    "10. Файл з демонстрацією можливостей створених структур\n",
    "11. Файл зображення структури\n",
    "\n",
    "### Реалізація\n",
    "В ході даної роботи було створено 2 структури: [список](#Список) та [чергу](#Черга)."
   ]
  },
  {
   "cell_type": "markdown",
   "metadata": {},
   "source": [
    "#### Список\n",
    "[.data_structures.list](./data_structures/list.py)  \n",
    "Список реалізований за допомогою класу CustomList, який знаходиться у неймспейсі data_structures.list  \n",
    "Клас наслідується від класу [data_structures.utils.MaxLenMinix](#MaxLenMixin) для того, щоб мати можливість обмежувати довжину списку.  \n",
    "Також було створено конструктор класу, який перетворює ітерабельний об'єкт у список.  \n",
    "\n",
    "\n",
    "Розглянемо усі методи реалізовані у класі та подивимось на них у дії.\n",
    "> Звертаю увагу на те, що усі методи задокументовані у коді, тож більш детально з методами можна ознайомитись тут  [.data_structures.list](./data_structures/list.py)\n",
    "\n",
    "__Магічні методи__ <sup>клікніть на ім'я методу щоб побачити його у дії</sup>\n",
    "\n",
    "| Ім'я | Опис |\n",
    "|------|------|\n",
    "|[`__init__`](#list--init)|Конструктор класу. Виконує перевірку, щоб усі елементи списку були числами|\n",
    "|[`__str__`](#list--str)|Ковертує список у рядок. Виглядає зрозуміло для людини|\n",
    "|[`__repr__`](#list--repr)|Конвертує список у рядок, за яким можна відтворити список|\n",
    "|[`__add__`](#list--add)|Дозволяє конкатенувати списки за допомогою `+`|\n",
    "|[`__len__`](#list--len)|Повертає довжину списку|\n",
    "|[`__getitem__`](#list--getitem)| Дозволяє отримувати елемент за індексом|\n",
    "\n",
    "__Публічні методи__ <sup>клікніть на ім'я методу щоб побачити його у дії</sup>\n",
    "\n",
    "| Ім'я | Опис |\n",
    "|------|------|\n",
    "|[`is_full`](#list--is-full)|Перевіряє чи увесь список заповнено|\n",
    "|[`is_empty`](#list--is-empty)|Перевіряє чи увесь список порожній|\n",
    "|[`append`](#list--append)|Додає елемент у кінець списку|\n",
    "|[`extend`](#list--extend)|Додає колекцію до списку|\n",
    "|[`pop`](#list--pop)|Видаляє елемент за індексом та вертає його значення|\n",
    "|[`clear`](#list--clear)|Очищує список|\n",
    "|[`count`](#list--count)|Повертає кількість входжень об'єкту|\n",
    "|[`index`](#list--index)|Повертає індекс шуканого елемента|\n",
    "|[`insert`](#list--insert)|Дозволяє вставити у список елемент на конкретну позицію|\n",
    "|[`reverse`](#list--reverse)|Розгортає список у інший бік|"
   ]
  },
  {
   "cell_type": "markdown",
   "metadata": {},
   "source": [
    "<a id=\"list--init\"></a>__\\_\\_init\\_\\___"
   ]
  },
  {
   "cell_type": "code",
   "execution_count": 1,
   "metadata": {},
   "outputs": [],
   "source": [
    "from data_structures import CustomList\n",
    "\n",
    "list = CustomList(1,2,3,4,5)"
   ]
  },
  {
   "cell_type": "markdown",
   "metadata": {},
   "source": [
    "<a id=\"list--custom-list\"></a>Також було створено функцію-конструктор класу яка конвертує ітерабельні об'єкти в CustomList  \n",
    "`custom_list`"
   ]
  },
  {
   "cell_type": "code",
   "execution_count": 2,
   "metadata": {},
   "outputs": [
    {
     "data": {
      "text/plain": [
       "CustomList(94, 46, 62, 49, 61, 33, 55, 71, 52, 54, 39, 91, 11, 50, 14, 55, 88, 95, 19, 55, 17, 69, 85, 81, 83, 31, 54, 85, 37, 84, maxlen=30)"
      ]
     },
     "execution_count": 2,
     "metadata": {},
     "output_type": "execute_result"
    }
   ],
   "source": [
    "from data_structures import custom_list\n",
    "from random import randint\n",
    "\n",
    "list = custom_list((randint(0,100) for _ in range(30)), maxlen=30)\n",
    "list"
   ]
  },
  {
   "cell_type": "markdown",
   "metadata": {},
   "source": [
    "<a id=\"list--str\"></a>__\\_\\_str\\_\\___"
   ]
  },
  {
   "cell_type": "code",
   "execution_count": 3,
   "metadata": {},
   "outputs": [
    {
     "name": "stdout",
     "output_type": "stream",
     "text": [
      "(94, 46, 62, 49, 61, 33, 55, 71, 52, 54, 39, 91, 11, 50, 14, 55, 88, 95, 19, 55, 17, 69, 85, 81, 83, 31, 54, 85, 37, 84) with max length 30\n"
     ]
    }
   ],
   "source": [
    "print(str(list))"
   ]
  },
  {
   "cell_type": "markdown",
   "metadata": {},
   "source": [
    "<a id=\"list--repr\"></a>__\\_\\_repr\\_\\___"
   ]
  },
  {
   "cell_type": "code",
   "execution_count": 4,
   "metadata": {},
   "outputs": [
    {
     "name": "stdout",
     "output_type": "stream",
     "text": [
      "CustomList(94, 46, 62, 49, 61, 33, 55, 71, 52, 54, 39, 91, 11, 50, 14, 55, 88, 95, 19, 55, 17, 69, 85, 81, 83, 31, 54, 85, 37, 84, maxlen=30)\n"
     ]
    }
   ],
   "source": [
    "print(repr(list))"
   ]
  },
  {
   "cell_type": "markdown",
   "metadata": {},
   "source": [
    "<a id=\"list--add\"></a>__\\_\\_add\\_\\___"
   ]
  },
  {
   "cell_type": "code",
   "execution_count": 5,
   "metadata": {},
   "outputs": [
    {
     "data": {
      "text/plain": [
       "CustomList(94, 46, 62, 49, 61, 33, 55, 71, 52, 54, 39, 91, 11, 50, 14, 55, 88, 95, 19, 55, 17, 69, 85, 81, 83, 31, 54, 85, 37, 84, 6, 7, 8, 9, 10)"
      ]
     },
     "execution_count": 5,
     "metadata": {},
     "output_type": "execute_result"
    }
   ],
   "source": [
    "list += CustomList(6,7,8,9,10)\n",
    "list"
   ]
  },
  {
   "cell_type": "markdown",
   "metadata": {},
   "source": [
    "<a id=\"list--len\"></a>__\\_\\_len\\_\\___"
   ]
  },
  {
   "cell_type": "code",
   "execution_count": 6,
   "metadata": {},
   "outputs": [
    {
     "data": {
      "text/plain": [
       "35"
      ]
     },
     "execution_count": 6,
     "metadata": {},
     "output_type": "execute_result"
    }
   ],
   "source": [
    "len(list)"
   ]
  },
  {
   "cell_type": "markdown",
   "metadata": {},
   "source": [
    "<a id=\"list--getitem\"></a>__\\_\\_getitem\\_\\___"
   ]
  },
  {
   "cell_type": "code",
   "execution_count": 7,
   "metadata": {},
   "outputs": [
    {
     "name": "stdout",
     "output_type": "stream",
     "text": [
      "list[0]=94\n",
      "list[-1]=10\n"
     ]
    }
   ],
   "source": [
    "print(f'{list[0]=}')\n",
    "print(f'{list[-1]=}')"
   ]
  },
  {
   "cell_type": "markdown",
   "metadata": {},
   "source": [
    "Разом `__len__` та `__getitem__` створюють можливість ітеруватися по колекції, тому магічні методи `__iter__` та `__next__` не потрібно реалізовувати"
   ]
  },
  {
   "cell_type": "code",
   "execution_count": 8,
   "metadata": {},
   "outputs": [
    {
     "name": "stdout",
     "output_type": "stream",
     "text": [
      "94 46 62 49 61 33 55 71 52 54 39 91 11 50 14 55 88 95 19 55 17 69 85 81 83 31 54 85 37 84 6 7 8 9 10 "
     ]
    }
   ],
   "source": [
    "for element in list:\n",
    "    print(element, end=' ')"
   ]
  },
  {
   "cell_type": "markdown",
   "metadata": {},
   "source": [
    "<a id=\"list--is-full\"></a>__is_full__"
   ]
  },
  {
   "cell_type": "code",
   "execution_count": 9,
   "metadata": {},
   "outputs": [
    {
     "data": {
      "text/plain": [
       "True"
      ]
     },
     "execution_count": 9,
     "metadata": {},
     "output_type": "execute_result"
    }
   ],
   "source": [
    "CustomList(1,2,3, maxlen=3).is_full()"
   ]
  },
  {
   "cell_type": "code",
   "execution_count": 10,
   "metadata": {},
   "outputs": [
    {
     "data": {
      "text/plain": [
       "False"
      ]
     },
     "execution_count": 10,
     "metadata": {},
     "output_type": "execute_result"
    }
   ],
   "source": [
    "CustomList(1,2,3).is_full()"
   ]
  },
  {
   "cell_type": "markdown",
   "metadata": {},
   "source": [
    "<a id=\"list--is-empty\"></a>__is_empty__"
   ]
  },
  {
   "cell_type": "code",
   "execution_count": 11,
   "metadata": {},
   "outputs": [
    {
     "data": {
      "text/plain": [
       "True"
      ]
     },
     "execution_count": 11,
     "metadata": {},
     "output_type": "execute_result"
    }
   ],
   "source": [
    "CustomList().is_empty()"
   ]
  },
  {
   "cell_type": "code",
   "execution_count": 12,
   "metadata": {},
   "outputs": [
    {
     "data": {
      "text/plain": [
       "False"
      ]
     },
     "execution_count": 12,
     "metadata": {},
     "output_type": "execute_result"
    }
   ],
   "source": [
    "CustomList(1,2,3).is_empty()"
   ]
  },
  {
   "cell_type": "markdown",
   "metadata": {},
   "source": [
    "<a id=\"list--append\"></a>__append__"
   ]
  },
  {
   "cell_type": "code",
   "execution_count": 13,
   "metadata": {},
   "outputs": [
    {
     "data": {
      "text/plain": [
       "CustomList(94, 46, 62, 49, 61, 33, 55, 71, 52, 54, 39, 91, 11, 50, 14, 55, 88, 95, 19, 55, 17, 69, 85, 81, 83, 31, 54, 85, 37, 84, 6, 7, 8, 9, 10, 11)"
      ]
     },
     "execution_count": 13,
     "metadata": {},
     "output_type": "execute_result"
    }
   ],
   "source": [
    "list.append(11)\n",
    "list"
   ]
  },
  {
   "cell_type": "markdown",
   "metadata": {},
   "source": [
    "<a id=\"list--extend\"></a>__extend__"
   ]
  },
  {
   "cell_type": "code",
   "execution_count": 14,
   "metadata": {},
   "outputs": [
    {
     "data": {
      "text/plain": [
       "CustomList(94, 46, 62, 49, 61, 33, 55, 71, 52, 54, 39, 91, 11, 50, 14, 55, 88, 95, 19, 55, 17, 69, 85, 81, 83, 31, 54, 85, 37, 84, 6, 7, 8, 9, 10, 11, 12, 13, 14)"
      ]
     },
     "execution_count": 14,
     "metadata": {},
     "output_type": "execute_result"
    }
   ],
   "source": [
    "list.extend([12,13,14])\n",
    "list"
   ]
  },
  {
   "cell_type": "markdown",
   "metadata": {},
   "source": [
    "<a id=\"list--pop\"></a>__pop__"
   ]
  },
  {
   "cell_type": "code",
   "execution_count": 15,
   "metadata": {},
   "outputs": [
    {
     "name": "stdout",
     "output_type": "stream",
     "text": [
      "list.pop()=14\n"
     ]
    },
    {
     "data": {
      "text/plain": [
       "CustomList(94, 46, 62, 49, 61, 33, 55, 71, 52, 54, 39, 91, 11, 50, 14, 55, 88, 95, 19, 55, 17, 69, 85, 81, 83, 31, 54, 85, 37, 84, 6, 7, 8, 9, 10, 11, 12, 13)"
      ]
     },
     "execution_count": 15,
     "metadata": {},
     "output_type": "execute_result"
    }
   ],
   "source": [
    "print(f'{list.pop()=}')\n",
    "list"
   ]
  },
  {
   "cell_type": "code",
   "execution_count": 16,
   "metadata": {},
   "outputs": [
    {
     "name": "stdout",
     "output_type": "stream",
     "text": [
      "list.pop(6)=55\n"
     ]
    },
    {
     "data": {
      "text/plain": [
       "CustomList(94, 46, 62, 49, 61, 33, 71, 52, 54, 39, 91, 11, 50, 14, 55, 88, 95, 19, 55, 17, 69, 85, 81, 83, 31, 54, 85, 37, 84, 6, 7, 8, 9, 10, 11, 12, 13)"
      ]
     },
     "execution_count": 16,
     "metadata": {},
     "output_type": "execute_result"
    }
   ],
   "source": [
    "print(f'{list.pop(6)=}')\n",
    "list"
   ]
  },
  {
   "cell_type": "markdown",
   "metadata": {},
   "source": [
    "<a id=\"list--count\"></a>__count__"
   ]
  },
  {
   "cell_type": "code",
   "execution_count": 17,
   "metadata": {},
   "outputs": [
    {
     "data": {
      "text/plain": [
       "0"
      ]
     },
     "execution_count": 17,
     "metadata": {},
     "output_type": "execute_result"
    }
   ],
   "source": [
    "list.count(5)"
   ]
  },
  {
   "cell_type": "markdown",
   "metadata": {},
   "source": [
    "<a id=\"list--index\"></a>__index__"
   ]
  },
  {
   "cell_type": "code",
   "execution_count": 18,
   "metadata": {},
   "outputs": [],
   "source": [
    "list.index(5)"
   ]
  },
  {
   "cell_type": "markdown",
   "metadata": {},
   "source": [
    "<a id=\"list--insert\"></a>__insert__"
   ]
  },
  {
   "cell_type": "code",
   "execution_count": 19,
   "metadata": {},
   "outputs": [
    {
     "data": {
      "text/plain": [
       "CustomList(94, 46, 62, 49, 555, 61, 33, 71, 52, 54, 39, 91, 11, 50, 14, 55, 88, 95, 19, 55, 17, 69, 85, 81, 83, 31, 54, 85, 37, 84, 6, 7, 8, 9, 10, 11, 12, 13)"
      ]
     },
     "execution_count": 19,
     "metadata": {},
     "output_type": "execute_result"
    }
   ],
   "source": [
    "list.insert(555, 4)\n",
    "list"
   ]
  },
  {
   "cell_type": "markdown",
   "metadata": {},
   "source": [
    "<a id=\"list--reverse\"></a>__reverse__"
   ]
  },
  {
   "cell_type": "code",
   "execution_count": 20,
   "metadata": {},
   "outputs": [
    {
     "data": {
      "text/plain": [
       "CustomList(13, 12, 11, 10, 9, 8, 7, 6, 84, 37, 85, 54, 31, 83, 81, 85, 69, 17, 55, 19, 95, 88, 55, 14, 50, 11, 91, 39, 54, 52, 71, 33, 61, 555, 49, 62, 46, 94)"
      ]
     },
     "execution_count": 20,
     "metadata": {},
     "output_type": "execute_result"
    }
   ],
   "source": [
    "list.reverse()\n",
    "list"
   ]
  },
  {
   "cell_type": "markdown",
   "metadata": {},
   "source": [
    "<a id=\"list--clear\"></a>__clear__"
   ]
  },
  {
   "cell_type": "code",
   "execution_count": 21,
   "metadata": {},
   "outputs": [
    {
     "data": {
      "text/plain": [
       "CustomList()"
      ]
     },
     "execution_count": 21,
     "metadata": {},
     "output_type": "execute_result"
    }
   ],
   "source": [
    "list.clear()\n",
    "list"
   ]
  },
  {
   "cell_type": "markdown",
   "metadata": {},
   "source": [
    "### Черга\n",
    "[.data_structures.queue](./data_structures/queue.py)  \n",
    "Черга реалізована за допомогою класу CustomQueue, який знаходиться у неймспейсі data_structures.queue  \n",
    "Клас наслідується від класу [data_structures.utils.MaxLenMinix](#MaxLenMixin) для того, щоб мати можливість обмежувати довжину черги.  \n",
    "Також було створено конструктор класу, який перетворює ітерабельний об'єкт у чергу.  \n",
    "\n",
    "\n",
    "Розглянемо усі методи реалізовані у класі та подивимось на них у дії.\n",
    "> Звертаю увагу на те, що усі методи задокументовані у коді, тож більш детально з методами можна ознайомитись тут  [.data_structures.queue](./data_structures/queue.py)\n",
    "\n",
    "__Магічні методи__ <sup>клікніть на ім'я методу щоб побачити його у дії</sup>\n",
    "\n",
    "| Ім'я | Опис |\n",
    "|------|------|\n",
    "|[`__init__`](#queue--init)|Конструктор класу. Приймає числа у десятковій системі та конверує їх у хекс|\n",
    "|[`__str__`](#queue--str)|Ковертує чергу у рядок. Виглядає зрозуміло для людини|\n",
    "|[`__repr__`](#queue--repr)|Конвертує чергу у рядок, за яким можна відтворити список|\n",
    "|[`__add__`](#queue--add)|Дозволяє конкатенувати черги за допомогою `+`|\n",
    "|[`__len__`](#queue--len)|Повертає довжину черги|\n",
    "|[`__getitem__`](#queue--getitem)|Оскільки чергою не передбачено повертання елементу за індексом викликає помилку при спробі|\n",
    "|[`__iter__` \\& `__next__`](#queue--iter)|Оскільки метод `__getitem__()` повиртає помилку реалізовано ці методи для можливості ітерування по черзі|\n",
    "\n",
    "__Публічні методи__ <sup>клікніть на ім'я методу щоб побачити його у дії</sup>\n",
    "\n",
    "| Ім'я | Опис |\n",
    "|------|------|\n",
    "|[`is_full`](#queue--is-full)|Перевіряє чи усю чергу заповнено|\n",
    "|[`is_empty`](#queue--is-empty)|Перевіряє чи уся черга порожня|\n",
    "|[`lpush`](#queue--lpush)|Додає число<sub>10</sub> у чергу з лівого боку|\n",
    "|[`lpush_hex`](#queue--lpush-hex)|Додає число<sub>16</sub> у чергу з лівого боку|\n",
    "|[`rpop`](#queue--rpop)|Видаляє число з бравого боку черги та повертає його значення<sub>16</sub>|\n",
    "|[`rpop_int`](#queue--rpop-int)|Видаляє число з бравого боку черги та повертає його значення<sub>10</sub>|\n",
    "|[`lextend`](#queue--lextend)|Множинний `lpush()`|\n",
    "|[`lextend_hex`](#queue--lextendh-hex)|Множинний `lpush-hex()`|\n",
    "|[`clear`](#queue--clear)|Очищує чергу|\n",
    "|[`count`](#queue--count)|Повертає кількість входжень числа<sub>10</sub>|\n",
    "|[`count_hex`](#queue--count-hex)|Повертає кількість входжень числа<sub>16</sub>|\n",
    "|[`reverse`](#queue--reverse)|Розгортає елементи у черзі у інший бік|\n",
    "\n",
    "__Захищені методи__ <sup>клікніть на ім'я методу щоб побачити його у дії</sup>\n",
    "\n",
    "| Ім'я | Опис |\n",
    "|------|------|\n",
    "|[`_validate_hex`](#queue--validate_hex)|Перевіряє формат hex|\n",
    "\n"
   ]
  },
  {
   "cell_type": "markdown",
   "metadata": {},
   "source": [
    "<a id=\"queue--init\"></a>__\\_\\_init\\_\\___"
   ]
  },
  {
   "cell_type": "code",
   "execution_count": 22,
   "metadata": {},
   "outputs": [],
   "source": [
    "from data_structures import CustomQueue\n",
    "\n",
    "queue = CustomQueue(1,2,3)"
   ]
  },
  {
   "cell_type": "markdown",
   "metadata": {},
   "source": [
    "<a id=\"queue--custom-queue\"></a>Також було створено функцію-конструктор класу яка конвертує ітерабельні об'єкти в CustomQueue  \n",
    "`custom_queue`"
   ]
  },
  {
   "cell_type": "code",
   "execution_count": 23,
   "metadata": {},
   "outputs": [
    {
     "data": {
      "text/plain": [
       "CustomQueue(12, 6, 95, 58, 3, 46, 47, 41, 66, 47, 43, 29, 84, 16, 77, 58, 70, 88, 6, 17, 95, 77, 87, 63, 0, 47, 89, 8, 86, 59, maxlen=30)"
      ]
     },
     "execution_count": 23,
     "metadata": {},
     "output_type": "execute_result"
    }
   ],
   "source": [
    "from data_structures import custom_queue\n",
    "from random import randint\n",
    "\n",
    "queue = custom_queue((randint(0,100) for _ in range(30)), maxlen=30)\n",
    "queue"
   ]
  },
  {
   "cell_type": "markdown",
   "metadata": {},
   "source": [
    "<a id=\"queue--str\"></a>__\\_\\_str\\_\\___"
   ]
  },
  {
   "cell_type": "code",
   "execution_count": 24,
   "metadata": {},
   "outputs": [
    {
     "name": "stdout",
     "output_type": "stream",
     "text": [
      "(3B -> 56 -> 8 -> 59 -> 2F -> 0 -> 3F -> 57 -> 4D -> 5F -> 11 -> 6 -> 58 -> 46 -> 3A -> 4D -> 10 -> 54 -> 1D -> 2B -> 2F -> 42 -> 29 -> 2F -> 2E -> 3 -> 3A -> 5F -> 6 -> C) with max length 30\n"
     ]
    }
   ],
   "source": [
    "print(str(queue))"
   ]
  },
  {
   "cell_type": "markdown",
   "metadata": {},
   "source": [
    "<a id=\"queue--repr\"></a>__\\_\\_repr\\_\\___"
   ]
  },
  {
   "cell_type": "code",
   "execution_count": 25,
   "metadata": {},
   "outputs": [
    {
     "name": "stdout",
     "output_type": "stream",
     "text": [
      "CustomQueue(12, 6, 95, 58, 3, 46, 47, 41, 66, 47, 43, 29, 84, 16, 77, 58, 70, 88, 6, 17, 95, 77, 87, 63, 0, 47, 89, 8, 86, 59, maxlen=30)\n"
     ]
    }
   ],
   "source": [
    "print(repr(queue))"
   ]
  },
  {
   "cell_type": "markdown",
   "metadata": {},
   "source": [
    "<a id=\"queue--add\"></a>__\\_\\_add\\_\\___"
   ]
  },
  {
   "cell_type": "code",
   "execution_count": 26,
   "metadata": {},
   "outputs": [
    {
     "data": {
      "text/plain": [
       "CustomQueue(15, 1, 12, 6, 95, 58, 3, 46, 47, 41, 66, 47, 43, 29, 84, 16, 77, 58, 70, 88, 6, 17, 95, 77, 87, 63, 0, 47, 89, 8, 86, 59)"
      ]
     },
     "execution_count": 26,
     "metadata": {},
     "output_type": "execute_result"
    }
   ],
   "source": [
    "queue += CustomQueue(15,1)\n",
    "queue"
   ]
  },
  {
   "cell_type": "markdown",
   "metadata": {},
   "source": [
    "<a id=\"queue--len\"></a>__\\_\\_len\\_\\___"
   ]
  },
  {
   "cell_type": "code",
   "execution_count": 27,
   "metadata": {},
   "outputs": [
    {
     "data": {
      "text/plain": [
       "32"
      ]
     },
     "execution_count": 27,
     "metadata": {},
     "output_type": "execute_result"
    }
   ],
   "source": [
    "len(queue)"
   ]
  },
  {
   "cell_type": "markdown",
   "metadata": {},
   "source": [
    "<a id=\"queue--getitem\"></a>__\\_\\_getitem\\_\\___"
   ]
  },
  {
   "cell_type": "code",
   "execution_count": 28,
   "metadata": {},
   "outputs": [
    {
     "name": "stdout",
     "output_type": "stream",
     "text": [
      "'CustomQueue' object is not subscriptable\n"
     ]
    }
   ],
   "source": [
    "try:\n",
    "    queue[3]\n",
    "except TypeError as e:\n",
    "    print(e)"
   ]
  },
  {
   "cell_type": "markdown",
   "metadata": {},
   "source": [
    "<a id=\"queue--iter\"></a>__\\_\\_iter\\_\\_ & \\_\\_next\\_\\____"
   ]
  },
  {
   "cell_type": "code",
   "execution_count": 29,
   "metadata": {},
   "outputs": [
    {
     "name": "stdout",
     "output_type": "stream",
     "text": [
      "0xf 0x1 0xc 0x6 0x5f 0x3a 0x3 0x2e 0x2f 0x29 0x42 0x2f 0x2b 0x1d 0x54 0x10 0x4d 0x3a 0x46 0x58 0x6 0x11 0x5f 0x4d 0x57 0x3f 0x0 0x2f 0x59 0x8 0x56 0x3b 0xf 0x1 0xc 0x6 0x5f 0x3a 0x3 0x2e 0x2f 0x29 0x42 0x2f 0x2b 0x1d 0x54 0x10 0x4d 0x3a 0x46 0x58 0x6 0x11 0x5f 0x4d 0x57 0x3f 0x0 0x2f 0x59 0x8 0x56 0x3b "
     ]
    }
   ],
   "source": [
    "for element in queue:\n",
    "    print(element, end=\" \")"
   ]
  },
  {
   "cell_type": "markdown",
   "metadata": {},
   "source": [
    "<a id=\"queue--clear\"></a>__clear__"
   ]
  },
  {
   "cell_type": "code",
   "execution_count": 30,
   "metadata": {},
   "outputs": [
    {
     "name": "stdout",
     "output_type": "stream",
     "text": [
      "()\n"
     ]
    }
   ],
   "source": [
    "queue.clear()\n",
    "print(str(queue))"
   ]
  },
  {
   "cell_type": "markdown",
   "metadata": {},
   "source": [
    "<a id=\"queue--is-full\"></a>__is_full__"
   ]
  },
  {
   "cell_type": "code",
   "execution_count": 31,
   "metadata": {},
   "outputs": [
    {
     "data": {
      "text/plain": [
       "True"
      ]
     },
     "execution_count": 31,
     "metadata": {},
     "output_type": "execute_result"
    }
   ],
   "source": [
    "CustomQueue(1,2,3, maxlen=3).is_full()"
   ]
  },
  {
   "cell_type": "code",
   "execution_count": 32,
   "metadata": {},
   "outputs": [
    {
     "data": {
      "text/plain": [
       "False"
      ]
     },
     "execution_count": 32,
     "metadata": {},
     "output_type": "execute_result"
    }
   ],
   "source": [
    "CustomQueue(1,2,3).is_full()"
   ]
  },
  {
   "cell_type": "markdown",
   "metadata": {},
   "source": [
    "<a id=\"queue--is-empty\"></a>__is_empty__"
   ]
  },
  {
   "cell_type": "code",
   "execution_count": 33,
   "metadata": {},
   "outputs": [
    {
     "data": {
      "text/plain": [
       "True"
      ]
     },
     "execution_count": 33,
     "metadata": {},
     "output_type": "execute_result"
    }
   ],
   "source": [
    "CustomQueue().is_empty()"
   ]
  },
  {
   "cell_type": "code",
   "execution_count": 34,
   "metadata": {},
   "outputs": [
    {
     "data": {
      "text/plain": [
       "False"
      ]
     },
     "execution_count": 34,
     "metadata": {},
     "output_type": "execute_result"
    }
   ],
   "source": [
    "CustomQueue(1,2,3).is_empty()"
   ]
  },
  {
   "cell_type": "markdown",
   "metadata": {},
   "source": [
    "<a id=\"queue--lpush\"></a><a id=\"queue--lpush-hex\"></a>__lpush & lpush_hex__"
   ]
  },
  {
   "cell_type": "code",
   "execution_count": 35,
   "metadata": {},
   "outputs": [
    {
     "name": "stdout",
     "output_type": "stream",
     "text": [
      "(FFF -> 3E8)\n"
     ]
    }
   ],
   "source": [
    "queue.lpush(1000)\n",
    "queue.lpush_hex('0xfff')\n",
    "print(str(queue))"
   ]
  },
  {
   "cell_type": "markdown",
   "metadata": {},
   "source": [
    "<a id=\"queue--lextend\"></a><a id=\"queue--lextend-hex\"></a>__lextend & lextend_hex__"
   ]
  },
  {
   "cell_type": "code",
   "execution_count": 36,
   "metadata": {},
   "outputs": [
    {
     "name": "stdout",
     "output_type": "stream",
     "text": [
      "(AA5 -> 123 -> FDE -> BB8 -> 7D0 -> 3E8 -> FFF -> 3E8)\n"
     ]
    }
   ],
   "source": [
    "queue.lextend((1000,2000,3000))\n",
    "queue.lextend_hex(('0xFDE', '0x123', '0xAA5'))\n",
    "print(str(queue))"
   ]
  },
  {
   "cell_type": "markdown",
   "metadata": {},
   "source": [
    "<a id=\"queue--count\"></a><a id=\"queue--count-hex\"></a>__count & count_hex__"
   ]
  },
  {
   "cell_type": "code",
   "execution_count": 37,
   "metadata": {},
   "outputs": [
    {
     "name": "stdout",
     "output_type": "stream",
     "text": [
      "queue.count(1000)=2\n",
      "queue.count_hex(\"0xFDE\")=1\n"
     ]
    }
   ],
   "source": [
    "print(f'{queue.count(1000)=}')\n",
    "print(f'{queue.count_hex(\"0xFDE\")=}')"
   ]
  },
  {
   "cell_type": "markdown",
   "metadata": {},
   "source": [
    "<a id=\"queue--rpop-int\"></a><a id=\"queue--rpop\"></a>__rpop & rpop-int__"
   ]
  },
  {
   "cell_type": "code",
   "execution_count": 38,
   "metadata": {},
   "outputs": [
    {
     "name": "stdout",
     "output_type": "stream",
     "text": [
      "queue.rpop()='0x3e8'\n",
      "queue.rpop_int()=4095\n",
      "(AA5 -> 123 -> FDE -> BB8 -> 7D0 -> 3E8)\n"
     ]
    }
   ],
   "source": [
    "print(f'{queue.rpop()=}')\n",
    "print(f'{queue.rpop_int()=}')\n",
    "print(str(queue))"
   ]
  },
  {
   "cell_type": "markdown",
   "metadata": {},
   "source": [
    "<a id=\"queue--reverse\"></a>__reverse__"
   ]
  },
  {
   "cell_type": "code",
   "execution_count": 39,
   "metadata": {},
   "outputs": [
    {
     "name": "stdout",
     "output_type": "stream",
     "text": [
      "(3E8 -> 7D0 -> BB8 -> FDE -> 123 -> AA5)\n"
     ]
    }
   ],
   "source": [
    "queue.reverse()\n",
    "print(str(queue))"
   ]
  },
  {
   "cell_type": "markdown",
   "metadata": {},
   "source": [
    "#### Міграція данних зі списку у чергу"
   ]
  },
  {
   "cell_type": "code",
   "execution_count": 40,
   "metadata": {},
   "outputs": [
    {
     "name": "stdout",
     "output_type": "stream",
     "text": [
      "c_list=CustomList(55, 23, -55, -32, -88, -91, -65, -19, 67, 35, -39, 46, 76, 20, 54, 95, 41, 68, 44, 91, 63, 14, 82, 15, 5, 91, 66, -59, -65, -21, -54, -40, 10, -83, 35, -34, -83, -19, 11, -58, 36, 11, 31, 91, -47, 52, 32, 13, -32, -93, maxlen=50)\n",
      "queue=CustomQueue(, maxlen=50)\n"
     ]
    }
   ],
   "source": [
    "from random import randint\n",
    "# Згенеруємо список з випадкових елементів з довжиною 50\n",
    "c_list = custom_list((randint(-100,100) for _ in range(50)), maxlen=50)\n",
    "queue = CustomQueue(maxlen=50)\n",
    "print(f'{c_list=}')\n",
    "print(f'{queue=}')"
   ]
  },
  {
   "cell_type": "code",
   "execution_count": 41,
   "metadata": {},
   "outputs": [],
   "source": [
    "# Отримуємо індекси елементів, які необхідно перенести зі списку у чергу\n",
    "\n",
    "# Ітеруємось по списку додаючи індекс елементу...\n",
    "# ... додаємо індекс елементу до нового списку...\n",
    "# ... якщо елемент ділиться на 2 без залишку\n",
    "index_for_delete = [index for index, element in enumerate(c_list) if element % 2 == 0]"
   ]
  },
  {
   "cell_type": "code",
   "execution_count": 42,
   "metadata": {},
   "outputs": [
    {
     "name": "stdout",
     "output_type": "stream",
     "text": [
      "c_list=CustomList(55, 23, -55, -91, -65, -19, 67, 35, -39, 95, 41, 91, 63, 15, 5, 91, -59, -65, -21, -83, 35, -83, -19, 11, 11, 31, 91, -47, 13, -93, maxlen=50)\n",
      "queue=CustomQueue(-32, -88, 46, 76, 20, 54, 68, 44, 14, 82, 66, -54, -40, 10, -34, -58, 36, 52, 32, -32, maxlen=50)\n",
      "Сумарна довжина черги та списку залишилась 50: True\n"
     ]
    }
   ],
   "source": [
    "# Переносимо кожен елемент з відповідним індексом до черги.\n",
    "# Додаємо до циклу зміщення, так як з кожним видаленням індекс для видалення має зменшуватись на 1\n",
    "for shift, index in enumerate(index_for_delete):\n",
    "    queue.lpush(c_list.pop(index - shift))\n",
    "print(f'{c_list=}')\n",
    "print(f'{queue=}')\n",
    "print(f'Сумарна довжина черги та списку залишилась 50: {len(queue)+len(c_list) == 50}')"
   ]
  },
  {
   "cell_type": "markdown",
   "metadata": {},
   "source": [
    "### Utils\n",
    "#### MaxLenMixin\n",
    "[.data_structures/utils/max_len_mixin.py](./data_structures/utils/max_len_mixin.py)  \n",
    "Клас який реалізує властивість `maxlen` для колекцій, які від нього наслідуються\n",
    "\n",
    "Додає до класу атрибут maxlen який неможливо змінити після створення класу.\n",
    "#### CustomListIsFull\n",
    "[.data_structures/utils/list_exceptions.py](./data_structures/utils/list_exceptions.py)  \n",
    "Еxception. Викликається коли список переповнений\n",
    "#### CustomListIsEmpty\n",
    "[.data_structures/utils/list_exceptions.py](./data_structures/utils/list_exceptions.py)  \n",
    "Exception. Викликається коли список пустий\n",
    "#### CustomQueueIsFull\n",
    "[.data_structures/utils/queue_exceptions.py](./data_structures/utils/queue_exceptions.py)  \n",
    "Еxception. Викликається коли черга переповнена\n",
    "#### CustomQueueIsEmpty\n",
    "[.data_structures/utils/queue_exceptions.py](./data_structures/utils/queue_exceptions.py)  \n",
    "Exception. Викликається коли черга пуста"
   ]
  }
 ],
 "metadata": {
  "kernelspec": {
   "display_name": "Python 3",
   "language": "python",
   "name": "python3"
  },
  "language_info": {
   "codemirror_mode": {
    "name": "ipython",
    "version": 3
   },
   "file_extension": ".py",
   "mimetype": "text/x-python",
   "name": "python",
   "nbconvert_exporter": "python",
   "pygments_lexer": "ipython3",
   "version": "3.8.3"
  }
 },
 "nbformat": 4,
 "nbformat_minor": 4
}
