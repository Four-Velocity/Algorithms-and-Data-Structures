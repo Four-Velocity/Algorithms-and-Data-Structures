{
 "cells": [
  {
   "cell_type": "markdown",
   "metadata": {},
   "source": [
    "# Лабораторна робота № 3\n",
    "## Дослідження нелінійних структур даних\n",
    "\n",
    "> Виконав: Мазур О.В.  \n",
    "> № Залікової: 190997  \n",
    "> Варіант № 15  \n",
    "> Третій рівень  \n",
    "> Робота: [https://github.com/Four-Velocity/Algorithms-and-Data-Structures/tree/master/lab_3](#https://github.com/Four-Velocity/Algorithms-and-Data-Structures/tree/master/lab_3)\n",
    "    \n",
    "### Зміст\n",
    "* [Завдання](#Завдання)\n",
    "* [Структура](#Структура)\n",
    "* [Реалізація](#Реалізація)\n",
    "    * [Студент](#Студент)\n",
    "    * [Дерево](#Дерево)\n",
    "    * [Виконання завдання](#Виконання-завдання)\n",
    "    \n",
    "    \n",
    "### Завдання\n",
    "* Перший рівень [\\[1\\]](#Виконання-завдання)\n",
    "    * Описати студента згідно з варіантом завдання (Прізвище, ім'я, курс, студентський квиток, стать, середній бал);\n",
    "    * Описати бінарне дерево;\n",
    "    * Створити екземпляр бінарного дерева;\n",
    "    * Додати елементи до дерева;\n",
    "    * Вивести вміст дерева у табличному вигляді згідно з заданим способом обходу дерева (у ширину).\n",
    "* Другий рівень [\\[2\\]](#Виконання-завдання)\n",
    "    * додати до опису бінарного дерева метод, який шукає у дереві вузол за визначеним у варіанті завдання критерієм пошуку (Студенти-чоловіки 2-го курсу, які вчаться на «добре» і «відмінно»);\n",
    "    * Створити екземпляр бінарного дерева;\n",
    "    * Додати елементи до дерева;\n",
    "    * Вивести вміст дерева у табличному вигляді згідно з заданим способом обходу дерева (у ширину);\n",
    "    * Знайти та вивести вузли дерева за визначеним критерієм пошуку.\n",
    "* Третій рівень [\\[3\\]](#Виконання-завдання)\n",
    "    * Додати до опису бінарного дерева метод, який видаляє з дерева вузли, що відповідають визначеному у варіанті завдання критерію пошуку (Студенти-чоловіки 2-го курсу, які вчаться на «добре» і «відмінно»);\n",
    "    * Створити екземпляр бінарного дерева;\n",
    "    * Додати елементи до дерева;\n",
    "    * Вивести вміст дерева у табличному вигляді згідно з заданим способом обходу дерева (у ширину);\n",
    "    * знайти та видалити вузли дерева за визначеним критерієм пошуку;\n",
    "    * вивести вміст дерева в табличному вигляді.\n",
    "    \n",
    "### Структура\n",
    "В ході данної роботи була реалізована наступна структура:  \n",
    "![Project Structure](https://raw.githubusercontent.com/Four-Velocity/Algorithms-and-Data-Structures/master/lab_3/structure.png)\n",
    "\n",
    "1. Директорія яка містить структури даних\n",
    "2. Службовий файл\n",
    "3. Реалізація бінарного дерева\n",
    "4. Реалізація студента\n",
    "5. Файл з демонстрацією можливостей створених структур\n",
    "6. Файл зображення структури проекту\n",
    "\n",
    "### Реалізація\n",
    "В ході даної роботи було створено 3 структури: контейнер [Студент](#Студент), [Дерево](#Дерево) та службовий клас [Вузол](#Дерево)."
   ]
  },
  {
   "cell_type": "markdown",
   "metadata": {},
   "source": [
    "#### Студент\n",
    "[.data_structures.student.py](https://github.com/Four-Velocity/Algorithms-and-Data-Structures/blob/master/lab_3/data_structures/student.py)\n",
    "\n",
    "Студент є типовим класом-контейнером який використовується у якості значень вузлів дерева.\n",
    "Він містить такі атрибути як прізвище, ім'я, номер студентсяького квитка, тощо.\n",
    "Також в ньому реалізовані магічні методи для можливості порівняння екземплярів між собою."
   ]
  },
  {
   "cell_type": "code",
   "execution_count": 1,
   "metadata": {},
   "outputs": [
    {
     "data": {
      "text/plain": [
       "Student(first_name=Vasya,last_name=Pupkin,course=1,ticket=777,sex=Male,average_grade=B)"
      ]
     },
     "execution_count": 1,
     "metadata": {},
     "output_type": "execute_result"
    }
   ],
   "source": [
    "from data_structures import Student\n",
    "\n",
    "test_student = Student(\n",
    "    first_name = 'Vasya',\n",
    "    last_name='Pupkin',\n",
    "    course=1,\n",
    "    sex='Male',\n",
    "    average_grade='B',\n",
    "    ticket=777,\n",
    ")\n",
    "\n",
    "test_student"
   ]
  },
  {
   "cell_type": "markdown",
   "metadata": {},
   "source": [
    "#### Дерево\n",
    "[.data_structures.binary_tree.py](https://github.com/Four-Velocity/Algorithms-and-Data-Structures/blob/master/lab_3/data_structures/binary_tree.py)  \n",
    "\n",
    "Для реалізації дерева ам необхідно реалізувати вузол дерева. `Node` - це простий клас, який містить інформацію про значення об'єкту, що в ньому зберігається, а такох інформацію про дитчі вузли.\n",
    "Також вузол містить метод для відмальовування дерева відносто цього вузла.\n",
    "\n",
    "Дерево реалізовано класом `Tree`.\n",
    "`Tree` емулює контейнер, тому пошук вширину відбувається за допомогою вбудованих у Python циклів.\n",
    "\n",
    "__Методи__\n",
    "\n",
    "| Ім'я | Опис |\n",
    "|------|------|\n",
    "|`__init__`|Встановлює корень дерева|\n",
    "|`__iter__`<br>`__next__`|Реалізує можливіть ітеруватись по дереву в ширину|\n",
    "|`__str__`|Повертає візуалізацію дерева|\n",
    "|`add`|Додає значення у дерево|\n",
    "|`_add`|Пошук оптимального місця для додавання вузла|\n",
    "|`findall_lazy`|Знаходить всі значення, які задовільняють умову та повертає генератор з ними|\n",
    "|`findall`|Знаходить всі значення, які задовільняють умову та упаковує їх у список|\n",
    "|`delede_node`|Видаляє вузол, знаяення якого задовільняють умову|\n",
    "|`delete_all`|Видаляє усі вузли, що задовільняють умову|\n",
    "|`__find_min`|Знаходить найменьше значення у гілці|\n"
   ]
  },
  {
   "cell_type": "code",
   "execution_count": 2,
   "metadata": {},
   "outputs": [],
   "source": [
    "from data_structures import Tree, Student\n",
    "from faker import Faker\n",
    "from random import randint, choice, random"
   ]
  },
  {
   "cell_type": "code",
   "execution_count": 3,
   "metadata": {},
   "outputs": [],
   "source": [
    "# Згенеруємо випадкових студентів та заповнимо дерево\n",
    "\n",
    "tree = Tree()\n",
    "faker = Faker()\n",
    "\n",
    "for _ in range(30):\n",
    "    sex = choice(('Male', 'Female'))\n",
    "    if sex == 'Male':\n",
    "        first_name = faker.first_name_male()\n",
    "        last_name = faker.last_name_male()\n",
    "    else:\n",
    "        first_name = faker.first_name_female()\n",
    "        last_name = faker.last_name_female()\n",
    "    tree.add(Student(\n",
    "        first_name=first_name,\n",
    "        last_name=last_name,\n",
    "        course=randint(1,4),\n",
    "        sex=sex,\n",
    "        average_grade=choice(('A', 'B', 'C', 'D', 'E')),\n",
    "        ticket=randint(100,999),\n",
    "    ))\n",
    "tree.add(Student(\n",
    "    first_name=faker.first_name_male(),\n",
    "    last_name=faker.last_name_male(),\n",
    "    course=2,\n",
    "    sex='Male',\n",
    "    average_grade='B',\n",
    "    ticket=randint(100,999)\n",
    "))"
   ]
  },
  {
   "cell_type": "code",
   "execution_count": 4,
   "metadata": {},
   "outputs": [
    {
     "name": "stdout",
     "output_type": "stream",
     "text": [
      "                                         ____514____                                         \n",
      "                                        /           \\                                        \n",
      "              _________________________457_       _572____________________________           \n",
      "             /                             \\     /                                \\          \n",
      "        ____242___________________        504   571        ______________________803_        \n",
      "       /                          \\                       /                          \\       \n",
      "     _199_                _______396_                   _590___________________     823_     \n",
      "    /     \\              /           \\                 /                       \\        \\    \n",
      "  _184   241           _343_        438               572           __________782      846_  \n",
      " /                    /     \\                                      /                       \\ \n",
      "142                 _278   389_                               ____633_______              933\n",
      "                   /           \\                             /              \\                \n",
      "                 _265         389                           623_          _761               \n",
      "                /                                               \\        /                   \n",
      "               263                                             625     _741                  \n",
      "                                                                      /                      \n",
      "                                                                     730                     \n"
     ]
    }
   ],
   "source": [
    "print(str(tree))"
   ]
  },
  {
   "cell_type": "code",
   "execution_count": 5,
   "metadata": {},
   "outputs": [
    {
     "name": "stdout",
     "output_type": "stream",
     "text": [
      "Студент 457\n",
      "Студент 571\n",
      "Студент 590\n",
      "Студент 438\n",
      "Студент 572\n"
     ]
    }
   ],
   "source": [
    "# Знайдемо усіх студентів ...\n",
    "def male_ab_sophomore(x):\n",
    "    # ................... чоловіків......другокурсників...що вчаться на А або В\n",
    "    return x.sex.lower() == 'male' and x.course == 2 and x.average_grade in ('A', 'B')\n",
    "\n",
    "for student, _ in tree.findall_lazy(male_ab_sophomore):\n",
    "    print(str(student.v))"
   ]
  },
  {
   "cell_type": "code",
   "execution_count": 6,
   "metadata": {},
   "outputs": [],
   "source": [
    "# Тепер видалимо їх та заново відмалюєм дерево\n",
    "tree.delete_all(male_ab_sophomore)"
   ]
  },
  {
   "cell_type": "code",
   "execution_count": 7,
   "metadata": {},
   "outputs": [
    {
     "name": "stdout",
     "output_type": "stream",
     "text": [
      "                                      _514_                                   \n",
      "                                     /     \\                                  \n",
      "              ______________________504   572______________________           \n",
      "             /                                                     \\          \n",
      "        ____242___________________                               _803_        \n",
      "       /                          \\                             /     \\       \n",
      "     _199_                _______396                 __________782   823_     \n",
      "    /     \\              /                          /                    \\    \n",
      "  _184   241           _343_                   ____633_______           846_  \n",
      " /                    /     \\                 /              \\              \\ \n",
      "142                 _278   389_              623_          _761            933\n",
      "                   /           \\                 \\        /                   \n",
      "                 _265         389               625     _741                  \n",
      "                /                                      /                      \n",
      "               263                                    730                     \n"
     ]
    }
   ],
   "source": [
    "print(str(tree))"
   ]
  }
 ],
 "metadata": {
  "kernelspec": {
   "display_name": "Python 3",
   "language": "python",
   "name": "python3"
  },
  "language_info": {
   "codemirror_mode": {
    "name": "ipython",
    "version": 3
   },
   "file_extension": ".py",
   "mimetype": "text/x-python",
   "name": "python",
   "nbconvert_exporter": "python",
   "pygments_lexer": "ipython3",
   "version": "3.8.3"
  }
 },
 "nbformat": 4,
 "nbformat_minor": 4
}